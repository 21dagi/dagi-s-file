{
  "nbformat": 4,
  "nbformat_minor": 0,
  "metadata": {
    "colab": {
      "provenance": [],
      "include_colab_link": true
    },
    "kernelspec": {
      "name": "python3",
      "display_name": "Python 3"
    },
    "language_info": {
      "name": "python"
    }
  },
  "cells": [
    {
      "cell_type": "markdown",
      "metadata": {
        "id": "view-in-github",
        "colab_type": "text"
      },
      "source": [
        "<a href=\"https://colab.research.google.com/github/21dagi/dagi-s-file/blob/main/dagi's_file.ipynb\" target=\"_parent\"><img src=\"https://colab.research.google.com/assets/colab-badge.svg\" alt=\"Open In Colab\"/></a>"
      ]
    },
    {
      "cell_type": "markdown",
      "source": [
        "**1.** lists store multiple items in a single variable elements are ordered mutable and allows duplicate elements"
      ],
      "metadata": {
        "id": "o-B8asVT6SG2"
      }
    },
    {
      "cell_type": "code",
      "source": [
        "d_list = [\"data\", 9.22, True, 44]\n",
        "print(d_list)"
      ],
      "metadata": {
        "id": "mWyKqUNN8huB"
      },
      "execution_count": null,
      "outputs": []
    },
    {
      "cell_type": "markdown",
      "source": [
        "Dictionaries store data values in key:value pairs they're unordered, changable and duplictes are not allowed"
      ],
      "metadata": {
        "id": "63YLyp7r-kT9"
      }
    },
    {
      "cell_type": "code",
      "source": [
        "d_dict = {\"name\": \"dagi\", \"age\": 76, \"dep't\": \"cse\"}\n",
        "print(d_dict)"
      ],
      "metadata": {
        "id": "U8a8RBRwA6eA"
      },
      "execution_count": null,
      "outputs": []
    },
    {
      "cell_type": "markdown",
      "source": [
        "NumPy array can store one or more dimentions of data(1D list, 2D table, 3D tensor), homogenous types only, unchangeable, are memory efficient and optimized for nummerical operations."
      ],
      "metadata": {
        "id": "lL695ESDEMYa"
      }
    },
    {
      "cell_type": "code",
      "source": [
        "import numpy as np\n",
        "my_array = np.array([3, 5, 7, 8])\n",
        "print(my_array * 4)"
      ],
      "metadata": {
        "id": "Q17HzlVPEKxr"
      },
      "execution_count": null,
      "outputs": []
    },
    {
      "cell_type": "markdown",
      "source": [
        "**2.** square of even numbers from a given list"
      ],
      "metadata": {
        "id": "hfFd-sbdMVQq"
      }
    },
    {
      "cell_type": "code",
      "source": [
        "def square_even_numbers(numbers):\n",
        "    return [x ** 2 for x in numbers if x % 2 == 0]\n",
        "\n",
        "my_list = [10, 15, 20, 25, 30]\n",
        "result = square_even_numbers(my_list)\n",
        "print(result)"
      ],
      "metadata": {
        "id": "7Dwbmr72NFwh"
      },
      "execution_count": null,
      "outputs": []
    },
    {
      "cell_type": "markdown",
      "source": [
        "**3.** output"
      ],
      "metadata": {
        "id": "_ngwRZQiOWbL"
      }
    },
    {
      "cell_type": "code",
      "source": [
        "x = [1, 2, 3]\n",
        "y = x\n",
        "y.append(4)\n",
        "print(x)"
      ],
      "metadata": {
        "colab": {
          "base_uri": "https://localhost:8080/"
        },
        "id": "ALPpX6X7OeKM",
        "outputId": "01ca3b74-fdd3-4a3b-917d-cff28a53f1b7"
      },
      "execution_count": null,
      "outputs": [
        {
          "output_type": "stream",
          "name": "stdout",
          "text": [
            "[1, 2, 3, 4]\n"
          ]
        }
      ]
    },
    {
      "cell_type": "markdown",
      "source": [
        "desciption: y = x does not create a new list it makes y a reference to the same list as x. Both x and y point to the same object in memory, so modifying y (e.g., y.append(4)) also affects x.\n",
        "hence printing x shows the modified list [1, 2, 3, 4]."
      ],
      "metadata": {
        "id": "WIAb0QwOOr7S"
      }
    },
    {
      "cell_type": "markdown",
      "source": [
        "**4.** .shape() - Returns a tuple (rows, columns) showing the dimensions of the DataFrame.\n",
        "Example: (5, 3) means 5 rows and 3 columns.\n",
        "\n",
        "describe() - Generates summary statistics for numerical columns:\n",
        "Count, mean, std (standard deviation), min, quartiles (25%, 50%, 75%), and max.\n",
        "For non-numeric columns, it shows count, unique values, top frequency, etc. (if include='all')."
      ],
      "metadata": {
        "id": "Bxn_2rWMO-an"
      }
    },
    {
      "cell_type": "code",
      "source": [
        "import pandas as pd\n",
        "\n",
        "# Create a sample DataFrame\n",
        "data = {\n",
        "    'Name': ['dagi', 'nina', 'yayo', 'Dave'],\n",
        "    'Age': [25, 19, 21, 25],\n",
        "    'Salary': [4000, 6030, 9050, 1010]\n",
        "}\n",
        "data_f = pd.DataFrame(data)\n",
        "\n",
        "      # Check dimensions\n",
        "print(\"Shape:\", data_f.shape)\n",
        "\n",
        "     # Generate summary statistics\n",
        "print(\"\\nDescribe():\")\n",
        "print(data_f.describe())"
      ],
      "metadata": {
        "id": "_WzFe-CuP0FR"
      },
      "execution_count": null,
      "outputs": []
    },
    {
      "cell_type": "markdown",
      "source": [
        "5. Load this CSV: airtravel.csv\n",
        "\n",
        "  * Print the first 5 rows\n",
        "  \n",
        "  * What do you notice about the data?"
      ],
      "metadata": {
        "id": "QpCtvS1dz-u2"
      }
    },
    {
      "cell_type": "code",
      "source": [
        "import pandas as pd\n",
        "\n",
        "# Load the CSV file\n",
        "df = pd.read_csv('https://people.sc.fsu.edu/~jburkardt/data/csv/airtravel.csv')\n",
        "\n",
        "# Print the first 5 rows\n",
        "print(df.head())"
      ],
      "metadata": {
        "colab": {
          "base_uri": "https://localhost:8080/"
        },
        "id": "SBmyoMlY0JDl",
        "outputId": "b8a2e998-c580-4e64-b6a1-d28ae778c66d"
      },
      "execution_count": null,
      "outputs": [
        {
          "output_type": "stream",
          "name": "stdout",
          "text": [
            "  Month   \"1958\"   \"1959\"   \"1960\"\n",
            "0   JAN      340      360      417\n",
            "1   FEB      318      342      391\n",
            "2   MAR      362      406      419\n",
            "3   APR      348      396      461\n",
            "4   MAY      363      420      472\n"
          ]
        }
      ]
    },
    {
      "cell_type": "markdown",
      "source": [
        "6.Load the CSV from Q5 and find:\n",
        "  \n",
        "  * The month with the highest total passengers\n",
        "  \n",
        "  * The month with the lowest in 1958"
      ],
      "metadata": {
        "id": "xxyh9FS_1sVh"
      }
    },
    {
      "cell_type": "code",
      "source": [
        "df.columns = df.columns.str.strip().str.replace('\"', '')\n",
        "df.set_index('Month', inplace=True)\n",
        "df['Total'] = df[\"1958\"] + df['1959'] + df['1960']\n",
        "\n",
        "\n",
        "max_month = df['Total'].idxmax()\n",
        "max_total = df['Total'].max()\n",
        "\n",
        "min_month_1958 = df['1958'].idxmin()\n",
        "min_passengers_1958 = df['1958'].min()\n",
        "\n",
        "print(f\"Month with the highest total passengers: {max_month} with {max_total} passengers\")\n",
        "print(f\"Month with the lowest passengers in 1958: {min_month_1958} with {min_passengers_1958} passengers\")"
      ],
      "metadata": {
        "id": "MPjD_eMg3s6J",
        "outputId": "d002fee8-b598-4f0b-f95e-db97a09fe357",
        "colab": {
          "base_uri": "https://localhost:8080/"
        }
      },
      "execution_count": null,
      "outputs": [
        {
          "output_type": "stream",
          "name": "stdout",
          "text": [
            "Month with the highest total passengers: AUG with 1670 passengers\n",
            "Month with the lowest passengers in 1958: NOV with 310 passengers\n"
          ]
        }
      ]
    },
    {
      "cell_type": "markdown",
      "source": [
        "**7.** The .groupby() function in pandas is used to split data into groups based on a specified criterion (e.g., a column), then apply operations (like aggregation, transformation, or filtering) to each group."
      ],
      "metadata": {
        "id": "fZXN6-rcQ4Pk"
      }
    },
    {
      "cell_type": "code",
      "source": [
        "import pandas as pd\n",
        "\n",
        "     # Create dummy sales data\n",
        "data = {\n",
        "    'Product': ['Apple', 'Banana', 'Apple', 'Banana', 'Apple', 'Cherry'],\n",
        "    'Region': ['North', 'South', 'North', 'South', 'North', 'South'],\n",
        "    'Sales': [100, 200, 150, 50, 300, 250]\n",
        "}\n",
        "df = pd.DataFrame(data)\n",
        "print(\"Original DataFrame:\")\n",
        "print(df)\n",
        "\n",
        "   # Group by 'Product' and sum sales\n",
        "grouped = df.groupby('Product')['Sales'].sum()\n",
        "print(\"\\nTotal Sales per Product:\")\n",
        "print(grouped)"
      ],
      "metadata": {
        "collapsed": true,
        "colab": {
          "base_uri": "https://localhost:8080/"
        },
        "id": "eo8J7TIWT5gx",
        "outputId": "08205b30-4b32-4d92-d765-784570468dff"
      },
      "execution_count": null,
      "outputs": [
        {
          "output_type": "stream",
          "name": "stdout",
          "text": [
            "\n",
            "Total Sales per Product:\n",
            "Product\n",
            "Apple     550\n",
            "Banana    250\n",
            "Cherry    250\n",
            "Name: Sales, dtype: int64\n"
          ]
        }
      ]
    },
    {
      "cell_type": "markdown",
      "source": [
        "8. titanic data set from seaborn"
      ],
      "metadata": {
        "id": "lQ5NyXnMUfsJ"
      }
    },
    {
      "cell_type": "code",
      "source": [
        "import seaborn as sns\n",
        "\n",
        "# 1. Load the Titanic dataset\n",
        "titanic = sns.load_dataset('titanic')\n",
        "\n",
        "# 2. Count missing values per column\n",
        "missing_values = titanic.isnull().sum()\n",
        "\n",
        "print(\"Missing values per column:\")\n",
        "print(missing_values)"
      ],
      "metadata": {
        "colab": {
          "base_uri": "https://localhost:8080/"
        },
        "id": "z7oMlPzeV_WN",
        "outputId": "bc2cdc87-21d8-46c4-8776-fc79f415d7ff"
      },
      "execution_count": null,
      "outputs": [
        {
          "output_type": "stream",
          "name": "stdout",
          "text": [
            "Missing values per column:\n",
            "survived         0\n",
            "pclass           0\n",
            "sex              0\n",
            "age            177\n",
            "sibsp            0\n",
            "parch            0\n",
            "fare             0\n",
            "embarked         2\n",
            "class            0\n",
            "who              0\n",
            "adult_male       0\n",
            "deck           688\n",
            "embark_town      2\n",
            "alive            0\n",
            "alone            0\n",
            "dtype: int64\n"
          ]
        }
      ]
    },
    {
      "cell_type": "markdown",
      "source": [
        "description:\n",
        "age: 177 missing values (≈20% of data).\n",
        "\n",
        "deck: 688 missing values (≈77% of data).\n",
        "\n",
        "embarked and embark_town: 2 missing values each.\n",
        "\n",
        "Other columns (e.g., survived, pclass) have no missing values."
      ],
      "metadata": {
        "id": "xSDuYch0WNvl"
      }
    },
    {
      "cell_type": "markdown",
      "source": [
        "**9. **visualizing age distribution"
      ],
      "metadata": {
        "id": "MS1tWlLbWh5z"
      }
    },
    {
      "cell_type": "code",
      "source": [
        "import seaborn as sns\n",
        "import matplotlib.pyplot as plt\n",
        "\n",
        "# Load the Titanic dataset\n",
        "titanic = sns.load_dataset('titanic')\n",
        "\n",
        "# Plot age distribution\n",
        "titanic[\"age\"].hist(bins=30, edgecolor=\"black\")\n",
        "plt.title(\"Age Distribution of Titanic Passengers\")\n",
        "plt.xlabel(\"Age\")\n",
        "plt.ylabel(\"Count\")\n",
        "plt.show()"
      ],
      "metadata": {
        "colab": {
          "base_uri": "https://localhost:8080/",
          "height": 472
        },
        "id": "rcocaJ0BW1rF",
        "outputId": "9a1db95c-68c2-46d4-b096-ca7ba0f035c4"
      },
      "execution_count": null,
      "outputs": [
        {
          "output_type": "display_data",
          "data": {
            "text/plain": [
              "<Figure size 640x480 with 1 Axes>"
            ],
            "image/png": "[encoded data removed]"
          },
          "metadata": {}
        }
      ]
    },
    {
      "cell_type": "markdown",
      "source": [
        "The shape is right skewed most passengers are  concentrated in the 20-40 age range.\n",
        "possible reason for the skew Demographics of Passengers:\n",
        "The Titanic carried many young emigrants (e.g., Irish, British) seeking opportunities in America.\n",
        "Families with children were also common, but fewer elderly passengers traveled.\n",
        "Survival Bias (Optional):\n",
        "Older passengers might have had lower survival rates (though this doesn't affect the original boarding distribution).\n",
        "Economic Factors:\n",
        "Younger adults were more likely to afford tickets (3rd class had many young laborers)."
      ],
      "metadata": {
        "id": "cT0ooFw3XF5h"
      }
    },
    {
      "cell_type": "markdown",
      "source": [
        "**10.** Standard deviation measures how spread out the values in a dataset are around the mean:\n",
        "Low std dev: Values are tightly clustered near the mean (less variability).\n",
        "High std dev: Values are widely dispersed (more variability)."
      ],
      "metadata": {
        "id": "GKNFkYqaZKop"
      }
    },
    {
      "cell_type": "code",
      "source": [
        "import numpy as np\n",
        "import pandas as pd\n",
        "\n",
        "# Create a DataFrame with two columns\n",
        "data = {\n",
        "    \"Low_Std\": [10, 11, 9, 10, 10, 11],  # Tightly clustered\n",
        "    \"High_Std\": [1, 20, 50, 30, 2, 100]  # Widely dispersed\n",
        "}\n",
        "df = pd.DataFrame(data)\n",
        "\n",
        "# Calculate mean and std dev\n",
        "stats = df.agg([\"mean\", \"std\"])\n",
        "print(stats)"
      ],
      "metadata": {
        "colab": {
          "base_uri": "https://localhost:8080/"
        },
        "collapsed": true,
        "id": "tIR_Bp1fZlu6",
        "outputId": "77adf29c-6ea9-4cad-c8c0-e62a34c12b29"
      },
      "execution_count": null,
      "outputs": [
        {
          "output_type": "stream",
          "name": "stdout",
          "text": [
            "        Low_Std   High_Std\n",
            "mean  10.166667  33.833333\n",
            "std    0.752773  37.247371\n"
          ]
        }
      ]
    },
    {
      "cell_type": "markdown",
      "source": [
        "description low_Std Column:std = 0.75 (very low). Values are all close to the mean (~10).\n",
        "\n",
        "use: Sensor readings with minimal noise.\n",
        "High_Std Column: std = 38.36 (high). Values range from 1 to 100, far from the mean (~33.8). Use: Income data in a population (inequality creates spread).\n"
      ],
      "metadata": {
        "id": "Ii8ILiETaCFi"
      }
    },
    {
      "cell_type": "markdown",
      "source": [
        "**11.** Real world examples where missing data might affect results\n",
        "Healthcare: Predicting Disease Risk\n",
        "Scenario: A hospital uses patient records (age, blood pressure, cholesterol) to predict heart attack risk.\n",
        "Problem:\n",
        "Missing cholesterol values for 30% of patients (tests were skipped for cost reasons).\n",
        "Impact:\n",
        "If missing values are from low-income patients (who couldn't afford tests), the model may underestimate risk for this group.\n",
        "Treatment recommendations could become biased toward wealthier patients.\n",
        "Solution:\n",
        "Use imputation (e.g., median cholesterol by age/income) or flag missingness as a separate category.\n",
        "In Autonomous Vehicles:\n",
        "Sensor Failure (LIDAR/Camera/RADAR) LIDAR sensor malfunctions due to dirt or hardware issues, causing missing spatial data about pedestrians or obstacles.\n",
        "Consequences:\n",
        "False Negatives: The vehicle fails to detect a pedestrian crossing the road, leading to a collision.\n",
        "Erratic Behavior: The AV may suddenly brake or swerve if it intermittently loses data, confusing other drivers.\n",
        "Solution:\n",
        "Redundant Sensors: Use overlapping LIDAR, cameras, and RADAR to cross-validate data.\n",
        "Real-Time Imputation: Estimate missing data points using predictive algorithms (e.g., Kalman filters).\n",
        "Missing Map or GPS Data Scenario: An AV enters a tunnel or urban canyon, losing GPS signal and lacking updated high-definition (HD) maps. Consequences:\n",
        "Localization Failure: The vehicle doesn’t know its exact position, risking lane departures or wrong turns.\n",
        "Traffic Rule Violations: Missing data about temporary construction zones could cause illegal maneuvers. solution:\n",
        "SLAM Algorithms: Use Simultaneous Localization and Mapping (SLAM) to navigate without GPS.\n",
        "Offline Map Caching: Preload HD maps for critical routes."
      ],
      "metadata": {
        "id": "kPxfM7iCbeU2"
      }
    }
  ]
}